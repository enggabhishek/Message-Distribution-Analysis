{
 "metadata": {
  "kernelspec": {
   "display_name": "Streamlit Notebook",
   "name": "streamlit"
  }
 },
 "nbformat_minor": 5,
 "nbformat": 4,
 "cells": [
  {
   "cell_type": "code",
   "id": "3775908f-ca36-4846-8f38-5adca39217f2",
   "metadata": {
    "language": "python",
    "name": "cell1",
    "collapsed": false
   },
   "source": "# Import python packages\nimport streamlit as st\nimport pandas as pd\nfrom matplotlib import pyplot as plt\nimport seaborn as sns\n# We can also use Snowpark for our analyses!\nfrom snowflake.snowpark.context import get_active_session\nsession = get_active_session()",
   "execution_count": null,
   "outputs": []
  },
  {
   "cell_type": "code",
   "id": "8d50cbf4-0c8d-4950-86cb-114990437ac9",
   "metadata": {
    "language": "sql",
    "name": "cell2",
    "collapsed": false
   },
   "source": "-- Welcome to Snowflake Notebooks!\n-- Try out a SQL cell to generate some data.\nSELECT 'FRIDAY' as SNOWDAY, 0.2 as CHANCE_OF_SNOW\nUNION ALL\nSELECT 'SATURDAY',0.5\nUNION ALL \nSELECT 'SUNDAY', 0.9;",
   "execution_count": null,
   "outputs": []
  },
  {
   "cell_type": "code",
   "id": "2583f11c-73e0-4144-9fa6-e797b371be81",
   "metadata": {
    "language": "python",
    "name": "cell6",
    "collapsed": false
   },
   "outputs": [],
   "source": "",
   "execution_count": null
  },
  {
   "cell_type": "code",
   "id": "5446a63b-c9d9-4ce0-aedb-a8185dec51db",
   "metadata": {
    "language": "python",
    "name": "cell7",
    "collapsed": false
   },
   "outputs": [],
   "source": "session",
   "execution_count": null
  },
  {
   "cell_type": "code",
   "id": "2903fd61-8df6-428e-ab4a-bda46171351b",
   "metadata": {
    "language": "python",
    "name": "cell4",
    "collapsed": false
   },
   "outputs": [],
   "source": "from snowflake.snowpark.context import get_active_session\nsession = get_active_session()\n# Access the table\ndf_table = session.table(name=\"message_tbl\")\ndf_table.show()",
   "execution_count": null
  },
  {
   "cell_type": "code",
   "id": "710065ef-2971-45dd-8dff-cc6be471b76a",
   "metadata": {
    "language": "python",
    "name": "cell8",
    "collapsed": false,
    "codeCollapsed": false
   },
   "outputs": [],
   "source": "message_type = session.sql(\"Select message_type from message_tbl where message_type IS NOT NULL\")",
   "execution_count": null
  },
  {
   "cell_type": "code",
   "id": "0149f549-3ae7-4a3b-9ddf-439421b56a1a",
   "metadata": {
    "language": "python",
    "name": "cell10",
    "collapsed": false
   },
   "outputs": [],
   "source": "message_type_df = message_type.to_pandas()",
   "execution_count": null
  },
  {
   "cell_type": "code",
   "id": "5a7885fb-a74d-44f7-8b69-5c1094b4d109",
   "metadata": {
    "language": "python",
    "name": "cell9",
    "collapsed": false
   },
   "outputs": [],
   "source": "# Assuming you have a DataFrame named 'messages_df' with a column named 'message_type'\nplt.figure(figsize=(8, 6))\nax = sns.countplot(x='MESSAGE_TYPE', data=message_type_df)\nplt.title('Count of Messages by Message Type')\nplt.xlabel('Message Type')\nplt.ylabel('Count')\n\n# Add count values inside the bars\nfor i, p in enumerate(ax.patches):\n    ax.annotate(f'{p.get_height():.0f}', (p.get_x() + p.get_width() / 2., p.get_height()), ha='center', va='center', xytext=(0, 5),textcoords='offset points')\nplt.show()",
   "execution_count": null
  },
  {
   "cell_type": "code",
   "id": "53fe418e-7cd9-462d-a1e2-05f77fa6df67",
   "metadata": {
    "language": "python",
    "name": "cell12",
    "collapsed": false
   },
   "outputs": [],
   "source": "dates = session.sql(\"Select dates from message_tbl where dates IS NOT NULL\")",
   "execution_count": null
  },
  {
   "cell_type": "code",
   "id": "cc04f523-73f5-4625-9ee2-810d2b6bcdc8",
   "metadata": {
    "language": "python",
    "name": "cell13",
    "collapsed": false
   },
   "outputs": [],
   "source": "messages_df = dates.to_pandas()",
   "execution_count": null
  },
  {
   "cell_type": "code",
   "id": "fc5dd9f2-b7bf-415c-a55b-627df839c1fd",
   "metadata": {
    "language": "python",
    "name": "cell14",
    "collapsed": false
   },
   "outputs": [],
   "source": "messages_df['DATES'].dtype",
   "execution_count": null
  },
  {
   "cell_type": "code",
   "id": "d40890a7-c680-4415-b585-c92bfe6af59b",
   "metadata": {
    "language": "python",
    "name": "cell15",
    "collapsed": false
   },
   "outputs": [],
   "source": "dtypes = {'DATES': 'datetime64[ns]'}\nmessages_df = messages_df.astype(dtypes)",
   "execution_count": null
  },
  {
   "cell_type": "code",
   "id": "f301dc55-f34c-458b-bab3-b7a5bf376f42",
   "metadata": {
    "language": "python",
    "name": "cell11",
    "collapsed": false
   },
   "outputs": [],
   "source": "plt.figure(figsize=(12, 6))\nmessages_by_day = messages_df.groupby(messages_df['DATES'].dt.date).size()\nmessages_by_day.plot(kind='line', marker='o', color='steelblue')\nplt.title('Number of Messages Sent per Day', fontsize=16)\nplt.xlabel('Date', fontsize=12)\nplt.ylabel('Count', fontsize=12)\nplt.xticks(rotation=45, fontsize=10)\nplt.yticks(fontsize=10)\n\nplt.show()",
   "execution_count": null
  },
  {
   "cell_type": "code",
   "id": "fb31fd87-7544-4134-b7e1-f6be5d4d9b20",
   "metadata": {
    "language": "python",
    "name": "cell17",
    "collapsed": false
   },
   "outputs": [],
   "source": "channel = session.sql(\"Select channel from message_tbl where channel IS NOT NULL\")",
   "execution_count": null
  },
  {
   "cell_type": "code",
   "id": "36e4c743-c2dc-49e2-81ea-e9da5159a300",
   "metadata": {
    "language": "python",
    "name": "cell18",
    "collapsed": false
   },
   "outputs": [],
   "source": "messages_df = channel.to_pandas()",
   "execution_count": null
  },
  {
   "cell_type": "code",
   "id": "9d1ccdf9-db62-4b21-bf5f-a860db71402e",
   "metadata": {
    "language": "python",
    "name": "cell16",
    "collapsed": false
   },
   "outputs": [],
   "source": "plt.figure(figsize=(8, 8))\nchannel_counts = messages_df['CHANNEL'].value_counts()\ncolors = ['purple', 'darkgreen','yellow']\n\n# Explode the largest slice\nexplode = [0.1 if i == channel_counts.idxmax() else 0 for i in channel_counts.index]\n\nplt.pie(channel_counts, labels=channel_counts.index, autopct='%1.1f%%', startangle=90, colors=colors, wedgeprops={'edgecolor': 'white'})\n\nplt.title('Distribution of Channels', fontsize=16, fontweight='bold')\n\n# Equal aspect ratio ensures that pie is drawn as a circle\nplt.axis('equal')\n\n# plt.tight_layout()\ncentre_circle = plt.Circle((0, 0), 0.70, fc='white')\nfig = plt.gcf()\n \n# Adding Circle in Pie chart\nfig.gca().add_artist(centre_circle)\n\nplt.show()",
   "execution_count": null
  },
  {
   "cell_type": "code",
   "id": "65f9e70b-5045-4849-8245-a828d0e452c5",
   "metadata": {
    "language": "python",
    "name": "cell20",
    "collapsed": false
   },
   "outputs": [],
   "source": "sent_at=session.sql(\"Select sent_at from message_tbl where sent_at IS NOT NULL\")",
   "execution_count": null
  },
  {
   "cell_type": "code",
   "id": "42fbc9cf-e078-418b-8061-63e82a053838",
   "metadata": {
    "language": "python",
    "name": "cell21",
    "collapsed": false
   },
   "outputs": [],
   "source": "messages_df = sent_at.to_pandas()",
   "execution_count": null
  },
  {
   "cell_type": "code",
   "id": "711a3f19-6112-4d15-919a-d1896678cf79",
   "metadata": {
    "language": "python",
    "name": "cell22",
    "collapsed": false
   },
   "outputs": [],
   "source": "dtypes = {'SENT_AT': 'datetime64[ns]'}\nmessages_df = messages_df.astype(dtypes)",
   "execution_count": null
  },
  {
   "cell_type": "code",
   "id": "4e7ffc7c-3ebe-437e-8933-dd64da331473",
   "metadata": {
    "language": "python",
    "name": "cell19",
    "collapsed": false
   },
   "outputs": [],
   "source": "plt.figure(figsize=(10, 6))\nmessages_df['SENT_AT_HOUR'] = messages_df['SENT_AT'].dt.hour\n\n# Calculate the counts for each hour\nhourly_counts = messages_df['SENT_AT_HOUR'].value_counts()\n\nplt.hist(messages_df['SENT_AT_HOUR'], bins=24, color='steelblue', edgecolor='white')\n\nplt.title('Distribution of Sent Time (Hourly)', fontsize=16, fontweight='bold')\nplt.xlabel('Hour of the Day', fontsize=12)\nplt.ylabel('Count', fontsize=12)\n\n# Format y-axis labels in millions\nplt.ticklabel_format(style='plain', axis='y', scilimits=(6, 6))\nplt.gca().yaxis.get_major_formatter().set_scientific(False)\n\nplt.xticks(range(0, 24))\nplt.yticks(fontsize=10)\n\nplt.grid(axis='y', linestyle='--', alpha=0.7)\n\nplt.tight_layout()\nplt.show()",
   "execution_count": null
  },
  {
   "cell_type": "code",
   "id": "9863f25c-b95a-4fbf-8012-cb3de3d7225a",
   "metadata": {
    "language": "python",
    "name": "cell5",
    "collapsed": false
   },
   "outputs": [],
   "source": "def time_periods(hour):\n    if 0 <= hour < 6:\n        return 'Night'\n    elif 6 <= hour < 12:\n        return 'Morning'\n    elif 12 <= hour < 16:\n        return 'Afternoon'\n    else:\n        return 'Evening'\n    \n#Apply the custom function to the 'hour' column and create a new 'period' column\nmessages_df['TimePeriod'] = messages_df['SENT_AT_HOUR'].apply(time_periods)",
   "execution_count": null
  },
  {
   "cell_type": "code",
   "id": "bffa3d94-f9ec-4da8-99b4-a3a786db27bf",
   "metadata": {
    "language": "python",
    "name": "cell23",
    "collapsed": false
   },
   "outputs": [],
   "source": "# Assuming you have a DataFrame named 'messages_df' with a column named 'TimePeriod'\nplt.figure(figsize=(8, 8))\ntime_period_counts = messages_df['TimePeriod'].value_counts()\n\n# Define custom colors for the pie chart\ncolors = ['steelblue', 'lightskyblue', 'lightcoral','orange']\n\nplt.pie(time_period_counts, labels=time_period_counts.index, autopct='%1.1f%%', startangle=90,\n        colors=colors, wedgeprops={'edgecolor': 'white'})\n\nplt.title('Distribution of Time Periods', fontsize=16, fontweight='bold')\nplt.axis('equal')\n\n# Add a legend with custom colors and title\nlegend_labels = time_period_counts.index\nplt.legend(legend_labels, title='Time Period', loc='best', bbox_to_anchor=(0.9, 0.9))\n\nplt.tight_layout()\nplt.show()",
   "execution_count": null
  },
  {
   "cell_type": "code",
   "id": "c695373e-ac74-4b62-a1f1-08206cbd5c81",
   "metadata": {
    "language": "python",
    "name": "cell3"
   },
   "source": "# Then, we can use the python name to turn cell2 into a Pandas dataframe\nmy_df = cell2.to_pandas()\n\n# Chart the data\nst.subheader(\"Chance of SNOW ❄️\")\nst.line_chart(my_df, x='SNOWDAY', y='CHANCE_OF_SNOW')\n\n# Give it a go!\nst.subheader(\"Try it out yourself and show off your skills 🥇\")",
   "execution_count": null,
   "outputs": []
  }
 ]
}